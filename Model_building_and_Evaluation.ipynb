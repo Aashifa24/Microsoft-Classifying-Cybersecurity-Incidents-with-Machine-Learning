{
 "cells": [
  {
   "cell_type": "markdown",
   "metadata": {},
   "source": [
    "**Model Selection and Training on Train Data**"
   ]
  },
  {
   "cell_type": "code",
   "execution_count": 1,
   "metadata": {},
   "outputs": [
    {
     "name": "stderr",
     "output_type": "stream",
     "text": [
      "c:\\Users\\aashi\\AppData\\Local\\Programs\\Python\\Python312\\Lib\\site-packages\\tqdm\\auto.py:21: TqdmWarning: IProgress not found. Please update jupyter and ipywidgets. See https://ipywidgets.readthedocs.io/en/stable/user_install.html\n",
      "  from .autonotebook import tqdm as notebook_tqdm\n"
     ]
    }
   ],
   "source": [
    "import pandas as pd\n",
    "import matplotlib.pyplot as plt\n",
    "from sklearn.model_selection import train_test_split\n",
    "from sklearn.linear_model import LogisticRegression\n",
    "from sklearn.tree import DecisionTreeClassifier\n",
    "from sklearn.metrics import classification_report\n",
    "from sklearn.ensemble import RandomForestClassifier, GradientBoostingClassifier\n",
    "from xgboost import XGBClassifier\n",
    "from lightgbm import LGBMClassifier\n",
    "from imblearn.over_sampling import SMOTE\n",
    "from sklearn.model_selection import RandomizedSearchCV\n",
    "import shap"
   ]
  },
  {
   "cell_type": "markdown",
   "metadata": {},
   "source": [
    "**Importing Processed train data**"
   ]
  },
  {
   "cell_type": "code",
   "execution_count": 2,
   "metadata": {},
   "outputs": [
    {
     "data": {
      "text/html": [
       "<div>\n",
       "<style scoped>\n",
       "    .dataframe tbody tr th:only-of-type {\n",
       "        vertical-align: middle;\n",
       "    }\n",
       "\n",
       "    .dataframe tbody tr th {\n",
       "        vertical-align: top;\n",
       "    }\n",
       "\n",
       "    .dataframe thead th {\n",
       "        text-align: right;\n",
       "    }\n",
       "</style>\n",
       "<table border=\"1\" class=\"dataframe\">\n",
       "  <thead>\n",
       "    <tr style=\"text-align: right;\">\n",
       "      <th></th>\n",
       "      <th>Id</th>\n",
       "      <th>OrgId</th>\n",
       "      <th>IncidentId</th>\n",
       "      <th>AlertId</th>\n",
       "      <th>DetectorId</th>\n",
       "      <th>AlertTitle</th>\n",
       "      <th>Category</th>\n",
       "      <th>IncidentGrade</th>\n",
       "      <th>EntityType</th>\n",
       "      <th>EvidenceRole</th>\n",
       "      <th>IpAddress</th>\n",
       "      <th>Url</th>\n",
       "      <th>AccountName</th>\n",
       "      <th>DeviceName</th>\n",
       "      <th>NetworkMessageId</th>\n",
       "      <th>RegistryKey</th>\n",
       "      <th>RegistryValueData</th>\n",
       "      <th>ApplicationName</th>\n",
       "      <th>OAuthApplicationId</th>\n",
       "      <th>FileName</th>\n",
       "      <th>ResourceIdName</th>\n",
       "      <th>OSVersion</th>\n",
       "      <th>City</th>\n",
       "      <th>Day</th>\n",
       "      <th>Year</th>\n",
       "      <th>Hour</th>\n",
       "      <th>Time</th>\n",
       "    </tr>\n",
       "  </thead>\n",
       "  <tbody>\n",
       "    <tr>\n",
       "      <th>0</th>\n",
       "      <td>180388628218</td>\n",
       "      <td>0</td>\n",
       "      <td>612</td>\n",
       "      <td>123247</td>\n",
       "      <td>7</td>\n",
       "      <td>6</td>\n",
       "      <td>10</td>\n",
       "      <td>2</td>\n",
       "      <td>15</td>\n",
       "      <td>1</td>\n",
       "      <td>27</td>\n",
       "      <td>160396</td>\n",
       "      <td>453297</td>\n",
       "      <td>153085</td>\n",
       "      <td>529644</td>\n",
       "      <td>1631</td>\n",
       "      <td>860</td>\n",
       "      <td>3421</td>\n",
       "      <td>881</td>\n",
       "      <td>289573</td>\n",
       "      <td>3586</td>\n",
       "      <td>66</td>\n",
       "      <td>3</td>\n",
       "      <td>4</td>\n",
       "      <td>2024</td>\n",
       "      <td>6</td>\n",
       "      <td>21915</td>\n",
       "    </tr>\n",
       "    <tr>\n",
       "      <th>1</th>\n",
       "      <td>455266534868</td>\n",
       "      <td>88</td>\n",
       "      <td>326</td>\n",
       "      <td>210035</td>\n",
       "      <td>58</td>\n",
       "      <td>43</td>\n",
       "      <td>7</td>\n",
       "      <td>1</td>\n",
       "      <td>32</td>\n",
       "      <td>0</td>\n",
       "      <td>360606</td>\n",
       "      <td>160396</td>\n",
       "      <td>24887</td>\n",
       "      <td>153085</td>\n",
       "      <td>529644</td>\n",
       "      <td>1631</td>\n",
       "      <td>860</td>\n",
       "      <td>3421</td>\n",
       "      <td>881</td>\n",
       "      <td>289573</td>\n",
       "      <td>3586</td>\n",
       "      <td>66</td>\n",
       "      <td>10630</td>\n",
       "      <td>14</td>\n",
       "      <td>2024</td>\n",
       "      <td>3</td>\n",
       "      <td>10885</td>\n",
       "    </tr>\n",
       "    <tr>\n",
       "      <th>2</th>\n",
       "      <td>1056561957389</td>\n",
       "      <td>809</td>\n",
       "      <td>58352</td>\n",
       "      <td>712507</td>\n",
       "      <td>423</td>\n",
       "      <td>298</td>\n",
       "      <td>10</td>\n",
       "      <td>1</td>\n",
       "      <td>31</td>\n",
       "      <td>1</td>\n",
       "      <td>360606</td>\n",
       "      <td>68652</td>\n",
       "      <td>453297</td>\n",
       "      <td>153085</td>\n",
       "      <td>529644</td>\n",
       "      <td>1631</td>\n",
       "      <td>860</td>\n",
       "      <td>3421</td>\n",
       "      <td>881</td>\n",
       "      <td>289573</td>\n",
       "      <td>3586</td>\n",
       "      <td>66</td>\n",
       "      <td>10630</td>\n",
       "      <td>13</td>\n",
       "      <td>2024</td>\n",
       "      <td>4</td>\n",
       "      <td>17575</td>\n",
       "    </tr>\n",
       "    <tr>\n",
       "      <th>3</th>\n",
       "      <td>1279900258736</td>\n",
       "      <td>92</td>\n",
       "      <td>32992</td>\n",
       "      <td>774301</td>\n",
       "      <td>2</td>\n",
       "      <td>2</td>\n",
       "      <td>1</td>\n",
       "      <td>0</td>\n",
       "      <td>31</td>\n",
       "      <td>1</td>\n",
       "      <td>360606</td>\n",
       "      <td>13</td>\n",
       "      <td>453297</td>\n",
       "      <td>153085</td>\n",
       "      <td>529644</td>\n",
       "      <td>1631</td>\n",
       "      <td>860</td>\n",
       "      <td>3421</td>\n",
       "      <td>881</td>\n",
       "      <td>289573</td>\n",
       "      <td>3586</td>\n",
       "      <td>66</td>\n",
       "      <td>10630</td>\n",
       "      <td>10</td>\n",
       "      <td>2024</td>\n",
       "      <td>16</td>\n",
       "      <td>59976</td>\n",
       "    </tr>\n",
       "    <tr>\n",
       "      <th>4</th>\n",
       "      <td>214748368522</td>\n",
       "      <td>148</td>\n",
       "      <td>4359</td>\n",
       "      <td>188041</td>\n",
       "      <td>9</td>\n",
       "      <td>74</td>\n",
       "      <td>6</td>\n",
       "      <td>2</td>\n",
       "      <td>32</td>\n",
       "      <td>0</td>\n",
       "      <td>360606</td>\n",
       "      <td>160396</td>\n",
       "      <td>479</td>\n",
       "      <td>153085</td>\n",
       "      <td>529644</td>\n",
       "      <td>1631</td>\n",
       "      <td>860</td>\n",
       "      <td>3421</td>\n",
       "      <td>881</td>\n",
       "      <td>289573</td>\n",
       "      <td>3586</td>\n",
       "      <td>66</td>\n",
       "      <td>10630</td>\n",
       "      <td>15</td>\n",
       "      <td>2024</td>\n",
       "      <td>1</td>\n",
       "      <td>4087</td>\n",
       "    </tr>\n",
       "  </tbody>\n",
       "</table>\n",
       "</div>"
      ],
      "text/plain": [
       "              Id  OrgId  IncidentId  AlertId  DetectorId  AlertTitle  \\\n",
       "0   180388628218      0         612   123247           7           6   \n",
       "1   455266534868     88         326   210035          58          43   \n",
       "2  1056561957389    809       58352   712507         423         298   \n",
       "3  1279900258736     92       32992   774301           2           2   \n",
       "4   214748368522    148        4359   188041           9          74   \n",
       "\n",
       "   Category  IncidentGrade  EntityType  EvidenceRole  IpAddress     Url  \\\n",
       "0        10              2          15             1         27  160396   \n",
       "1         7              1          32             0     360606  160396   \n",
       "2        10              1          31             1     360606   68652   \n",
       "3         1              0          31             1     360606      13   \n",
       "4         6              2          32             0     360606  160396   \n",
       "\n",
       "   AccountName  DeviceName  NetworkMessageId  RegistryKey  RegistryValueData  \\\n",
       "0       453297      153085            529644         1631                860   \n",
       "1        24887      153085            529644         1631                860   \n",
       "2       453297      153085            529644         1631                860   \n",
       "3       453297      153085            529644         1631                860   \n",
       "4          479      153085            529644         1631                860   \n",
       "\n",
       "   ApplicationName  OAuthApplicationId  FileName  ResourceIdName  OSVersion  \\\n",
       "0             3421                 881    289573            3586         66   \n",
       "1             3421                 881    289573            3586         66   \n",
       "2             3421                 881    289573            3586         66   \n",
       "3             3421                 881    289573            3586         66   \n",
       "4             3421                 881    289573            3586         66   \n",
       "\n",
       "    City  Day  Year  Hour   Time  \n",
       "0      3    4  2024     6  21915  \n",
       "1  10630   14  2024     3  10885  \n",
       "2  10630   13  2024     4  17575  \n",
       "3  10630   10  2024    16  59976  \n",
       "4  10630   15  2024     1   4087  "
      ]
     },
     "execution_count": 2,
     "metadata": {},
     "output_type": "execute_result"
    }
   ],
   "source": [
    "#importing processed train data\n",
    "train_data = pd.read_csv('traindata_processed.csv')\n",
    "pd.set_option('display.max_columns', None)\n",
    "train_data.head()"
   ]
  },
  {
   "cell_type": "code",
   "execution_count": 3,
   "metadata": {},
   "outputs": [
    {
     "data": {
      "text/plain": [
       "(8922805, 27)"
      ]
     },
     "execution_count": 3,
     "metadata": {},
     "output_type": "execute_result"
    }
   ],
   "source": [
    "train_data.shape"
   ]
  },
  {
   "cell_type": "markdown",
   "metadata": {},
   "source": [
    "**Defining features (X) and target (y)**"
   ]
  },
  {
   "cell_type": "code",
   "execution_count": 4,
   "metadata": {},
   "outputs": [],
   "source": [
    "X = train_data.drop(columns=['IncidentGrade','Id'])  \n",
    "y = train_data['IncidentGrade']                 "
   ]
  },
  {
   "cell_type": "code",
   "execution_count": 5,
   "metadata": {},
   "outputs": [
    {
     "name": "stdout",
     "output_type": "stream",
     "text": [
      "OrgId                 int64\n",
      "IncidentId            int64\n",
      "AlertId               int64\n",
      "DetectorId            int64\n",
      "AlertTitle            int64\n",
      "Category              int64\n",
      "EntityType            int64\n",
      "EvidenceRole          int64\n",
      "IpAddress             int64\n",
      "Url                   int64\n",
      "AccountName           int64\n",
      "DeviceName            int64\n",
      "NetworkMessageId      int64\n",
      "RegistryKey           int64\n",
      "RegistryValueData     int64\n",
      "ApplicationName       int64\n",
      "OAuthApplicationId    int64\n",
      "FileName              int64\n",
      "ResourceIdName        int64\n",
      "OSVersion             int64\n",
      "City                  int64\n",
      "Day                   int64\n",
      "Year                  int64\n",
      "Hour                  int64\n",
      "Time                  int64\n",
      "dtype: object\n"
     ]
    }
   ],
   "source": [
    "print(X.dtypes)"
   ]
  },
  {
   "cell_type": "code",
   "execution_count": 6,
   "metadata": {},
   "outputs": [
    {
     "name": "stdout",
     "output_type": "stream",
     "text": [
      "Column: OrgId, Min: 0, Max: 6144\n",
      "Column: IncidentId, Min: 0, Max: 599706\n",
      "Column: AlertId, Min: 0, Max: 1721456\n",
      "Column: DetectorId, Min: 0, Max: 9522\n",
      "Column: AlertTitle, Min: 0, Max: 113174\n",
      "Column: Category, Min: 0, Max: 19\n",
      "Column: EntityType, Min: 0, Max: 32\n",
      "Column: EvidenceRole, Min: 0, Max: 1\n",
      "Column: IpAddress, Min: 0, Max: 360606\n",
      "Column: Url, Min: 0, Max: 160396\n",
      "Column: AccountName, Min: 0, Max: 453297\n",
      "Column: DeviceName, Min: 0, Max: 153085\n",
      "Column: NetworkMessageId, Min: 0, Max: 529644\n",
      "Column: RegistryKey, Min: 0, Max: 1631\n",
      "Column: RegistryValueData, Min: 0, Max: 860\n",
      "Column: ApplicationName, Min: 0, Max: 3421\n",
      "Column: OAuthApplicationId, Min: 0, Max: 881\n",
      "Column: FileName, Min: 0, Max: 289573\n",
      "Column: ResourceIdName, Min: 0, Max: 3586\n",
      "Column: OSVersion, Min: 0, Max: 66\n",
      "Column: City, Min: 0, Max: 10630\n",
      "Column: Day, Min: 1, Max: 31\n",
      "Column: Year, Min: 2023, Max: 2024\n",
      "Column: Hour, Min: 0, Max: 23\n",
      "Column: Time, Min: 0, Max: 86399\n"
     ]
    }
   ],
   "source": [
    "# Check the range of each column\n",
    "for col in X.columns:\n",
    "    print(f\"Column: {col}, Min: {X[col].min()}, Max: {X[col].max()}\")\n"
   ]
  },
  {
   "cell_type": "code",
   "execution_count": 7,
   "metadata": {},
   "outputs": [
    {
     "name": "stdout",
     "output_type": "stream",
     "text": [
      "OrgId                 int16\n",
      "IncidentId            int32\n",
      "AlertId               int32\n",
      "DetectorId            int16\n",
      "AlertTitle            int32\n",
      "Category               int8\n",
      "EntityType             int8\n",
      "EvidenceRole           int8\n",
      "IpAddress             int32\n",
      "Url                   int32\n",
      "AccountName           int32\n",
      "DeviceName            int32\n",
      "NetworkMessageId      int32\n",
      "RegistryKey           int16\n",
      "RegistryValueData     int16\n",
      "ApplicationName       int16\n",
      "OAuthApplicationId    int16\n",
      "FileName              int32\n",
      "ResourceIdName        int16\n",
      "OSVersion              int8\n",
      "City                  int16\n",
      "Day                    int8\n",
      "Year                  int16\n",
      "Hour                   int8\n",
      "Time                  int32\n",
      "dtype: object\n"
     ]
    }
   ],
   "source": [
    "# Define downcast mapping\n",
    "downcast_mapping = {\n",
    "    'int8': ['Category', 'EntityType', 'EvidenceRole', 'OSVersion', 'Day', 'Hour'],\n",
    "    'int16': ['OrgId', 'DetectorId', 'RegistryKey', 'RegistryValueData', 'ApplicationName', \n",
    "              'OAuthApplicationId', 'ResourceIdName', 'City', 'Year'],\n",
    "    'int32': ['IncidentId', 'AlertId', 'AlertTitle', 'IpAddress', 'Url', 'AccountName', \n",
    "              'DeviceName', 'NetworkMessageId', 'FileName', 'Time']\n",
    "}\n",
    "\n",
    "# Apply downcasting\n",
    "for dtype, cols in downcast_mapping.items():\n",
    "    for col in cols:\n",
    "        X[col] = X[col].astype(dtype)\n",
    "\n",
    "print(X.dtypes)  # Verify updated datatypes\n"
   ]
  },
  {
   "cell_type": "code",
   "execution_count": 8,
   "metadata": {},
   "outputs": [],
   "source": [
    "# Stratified train-validation split\n",
    "X_train, X_val, y_train, y_val = train_test_split(X, y, test_size=0.3, stratify=y, random_state=42)"
   ]
  },
  {
   "cell_type": "code",
   "execution_count": 9,
   "metadata": {},
   "outputs": [
    {
     "name": "stdout",
     "output_type": "stream",
     "text": [
      "Training set class distribution:\n",
      " IncidentGrade\n",
      "0    0.428991\n",
      "2    0.351921\n",
      "1    0.219088\n",
      "Name: proportion, dtype: float64\n",
      "Validation set class distribution:\n",
      " IncidentGrade\n",
      "0    0.428991\n",
      "2    0.351921\n",
      "1    0.219088\n",
      "Name: proportion, dtype: float64\n"
     ]
    }
   ],
   "source": [
    "# Checking class distribution in training and validation sets\n",
    "print(\"Training set class distribution:\\n\", y_train.value_counts(normalize=True))\n",
    "print(\"Validation set class distribution:\\n\", y_val.value_counts(normalize=True))"
   ]
  },
  {
   "cell_type": "markdown",
   "metadata": {},
   "source": [
    "**Model Selection and Training:**"
   ]
  },
  {
   "cell_type": "markdown",
   "metadata": {},
   "source": [
    "Baseline Models\n"
   ]
  },
  {
   "cell_type": "code",
   "execution_count": 10,
   "metadata": {},
   "outputs": [
    {
     "name": "stdout",
     "output_type": "stream",
     "text": [
      "\n",
      "Training Logistic Regression...\n",
      "Logistic Regression Classification Report:\n",
      "               precision    recall  f1-score   support\n",
      "\n",
      "     Class 0       0.58      0.45      0.51   1148340\n",
      "     Class 1       0.35      0.33      0.34    586464\n",
      "     Class 2       0.51      0.68      0.58    942038\n",
      "\n",
      "    accuracy                           0.50   2676842\n",
      "   macro avg       0.48      0.48      0.48   2676842\n",
      "weighted avg       0.51      0.50      0.50   2676842\n",
      "\n",
      "\n",
      "Training Decision Tree...\n",
      "Decision Tree Classification Report:\n",
      "               precision    recall  f1-score   support\n",
      "\n",
      "     Class 0       1.00      1.00      1.00   1148340\n",
      "     Class 1       0.99      0.99      0.99    586464\n",
      "     Class 2       1.00      1.00      1.00    942038\n",
      "\n",
      "    accuracy                           1.00   2676842\n",
      "   macro avg       1.00      1.00      1.00   2676842\n",
      "weighted avg       1.00      1.00      1.00   2676842\n",
      "\n"
     ]
    }
   ],
   "source": [
    "# Baseline Models\n",
    "baseline_models = {\n",
    "    'Logistic Regression': LogisticRegression(class_weight='balanced', random_state=42),\n",
    "    'Decision Tree': DecisionTreeClassifier(class_weight='balanced', random_state=42)\n",
    "}\n",
    "\n",
    "# Training and evaluation on validation set\n",
    "for name, model in baseline_models.items():\n",
    "    print(f\"\\nTraining {name}...\")\n",
    "    model.fit(X_train, y_train)\n",
    "    y_pred = model.predict(X_val)\n",
    "    print(f\"{name} Classification Report:\\n\", classification_report(y_val, y_pred, target_names=['Class 0', 'Class 1', 'Class 2']))"
   ]
  },
  {
   "cell_type": "markdown",
   "metadata": {},
   "source": [
    "Advanced Models"
   ]
  },
  {
   "cell_type": "code",
   "execution_count": 11,
   "metadata": {},
   "outputs": [],
   "source": [
    "X = train_data.drop(columns=['IncidentGrade','Id'])  \n",
    "y = train_data['IncidentGrade']  \n",
    "# Stratified train-validation split\n",
    "X_train_sample, X_val, y_train_sample, y_val = train_test_split(X, y, test_size=0.3, stratify=y, random_state=42)"
   ]
  },
  {
   "cell_type": "code",
   "execution_count": 12,
   "metadata": {},
   "outputs": [
    {
     "name": "stdout",
     "output_type": "stream",
     "text": [
      "\n",
      "Training Random Forest...\n",
      "Random Forest Classification Report:\n",
      "               precision    recall  f1-score   support\n",
      "\n",
      "     Class 0       0.74      0.94      0.83   1148340\n",
      "     Class 1       0.81      0.73      0.77    586464\n",
      "     Class 2       0.97      0.73      0.83    942038\n",
      "\n",
      "    accuracy                           0.82   2676842\n",
      "   macro avg       0.84      0.80      0.81   2676842\n",
      "weighted avg       0.84      0.82      0.82   2676842\n",
      "\n",
      "\n",
      "Training LightGBM...\n",
      "[LightGBM] [Warning] feature_fraction is set=0.8, colsample_bytree=1.0 will be ignored. Current value: feature_fraction=0.8\n",
      "[LightGBM] [Warning] feature_fraction is set=0.8, colsample_bytree=1.0 will be ignored. Current value: feature_fraction=0.8\n",
      "[LightGBM] [Info] This is the GPU trainer!!\n",
      "[LightGBM] [Info] Total Bins 3644\n",
      "[LightGBM] [Info] Number of data points in the train set: 6245963, number of used features: 25\n",
      "[LightGBM] [Info] Using GPU Device: gfx90c, Vendor: Advanced Micro Devices, Inc.\n",
      "[LightGBM] [Info] Compiling OpenCL Kernel with 256 bins...\n",
      "[LightGBM] [Info] GPU programs have been built\n",
      "[LightGBM] [Info] Size of histogram bin entry: 8\n",
      "[LightGBM] [Info] 12 dense feature groups (71.48 MB) transferred to GPU in 0.144157 secs. 1 sparse feature groups\n",
      "[LightGBM] [Info] Start training from score -1.098612\n",
      "[LightGBM] [Info] Start training from score -1.098612\n",
      "[LightGBM] [Info] Start training from score -1.098612\n",
      "[LightGBM] [Warning] feature_fraction is set=0.8, colsample_bytree=1.0 will be ignored. Current value: feature_fraction=0.8\n",
      "LightGBM Classification Report:\n",
      "               precision    recall  f1-score   support\n",
      "\n",
      "     Class 0       0.88      0.89      0.88   1148340\n",
      "     Class 1       0.76      0.89      0.82    586464\n",
      "     Class 2       0.96      0.84      0.89    942038\n",
      "\n",
      "    accuracy                           0.87   2676842\n",
      "   macro avg       0.86      0.87      0.87   2676842\n",
      "weighted avg       0.88      0.87      0.87   2676842\n",
      "\n"
     ]
    }
   ],
   "source": [
    "from sklearn.ensemble import RandomForestClassifier\n",
    "from sklearn.metrics import classification_report\n",
    "from lightgbm import LGBMClassifier\n",
    "\n",
    "# Random Forest Model\n",
    "random_forest_model = RandomForestClassifier(\n",
    "    n_estimators=30,        # Reduce the number of trees\n",
    "    max_depth=10,           # Limit tree depth\n",
    "    max_features='sqrt',    # Use square root of total features\n",
    "    class_weight='balanced',\n",
    "    n_jobs=-1,              # Use all CPU cores\n",
    "    random_state=42\n",
    ")\n",
    "\n",
    "# Train and Evaluate Random Forest\n",
    "print(\"\\nTraining Random Forest...\")\n",
    "random_forest_model.fit(X_train, y_train)\n",
    "y_pred_rf = random_forest_model.predict(X_val)\n",
    "print(\"Random Forest Classification Report:\\n\", classification_report(y_val, y_pred_rf, target_names=['Class 0', 'Class 1', 'Class 2']))\n",
    "\n",
    "# LightGBM Model\n",
    "lightgbm_model = LGBMClassifier(\n",
    "    class_weight='balanced',\n",
    "    random_state=42,\n",
    "    device='gpu',           # Use GPU\n",
    "    n_estimators=50,        # Reduce the number of boosting rounds\n",
    "    max_depth=10,           # Limit the maximum depth of trees\n",
    "    feature_fraction=0.8    # Use only 80% of features in each iteration\n",
    ")\n",
    "\n",
    "# Train and Evaluate LightGBM\n",
    "print(\"\\nTraining LightGBM...\")\n",
    "lightgbm_model.fit(X_train, y_train)\n",
    "y_pred_lgbm = lightgbm_model.predict(X_val)\n",
    "print(\"LightGBM Classification Report:\\n\", classification_report(y_val, y_pred_lgbm, target_names=['Class 0', 'Class 1', 'Class 2']))\n"
   ]
  },
  {
   "cell_type": "code",
   "execution_count": 13,
   "metadata": {},
   "outputs": [
    {
     "name": "stderr",
     "output_type": "stream",
     "text": [
      "c:\\Users\\aashi\\AppData\\Local\\Programs\\Python\\Python312\\Lib\\site-packages\\xgboost\\core.py:158: UserWarning: [19:38:01] WARNING: C:\\buildkite-agent\\builds\\buildkite-windows-cpu-autoscaling-group-i-0c55ff5f71b100e98-1\\xgboost\\xgboost-ci-windows\\src\\context.cc:43: No visible GPU is found, setting device to CPU.\n",
      "  warnings.warn(smsg, UserWarning)\n",
      "c:\\Users\\aashi\\AppData\\Local\\Programs\\Python\\Python312\\Lib\\site-packages\\xgboost\\core.py:158: UserWarning: [19:38:01] WARNING: C:\\buildkite-agent\\builds\\buildkite-windows-cpu-autoscaling-group-i-0c55ff5f71b100e98-1\\xgboost\\xgboost-ci-windows\\src\\context.cc:196: XGBoost is not compiled with CUDA support.\n",
      "  warnings.warn(smsg, UserWarning)\n",
      "c:\\Users\\aashi\\AppData\\Local\\Programs\\Python\\Python312\\Lib\\site-packages\\xgboost\\core.py:158: UserWarning: [19:38:01] WARNING: C:\\buildkite-agent\\builds\\buildkite-windows-cpu-autoscaling-group-i-0c55ff5f71b100e98-1\\xgboost\\xgboost-ci-windows\\src\\learner.cc:740: \n",
      "Parameters: { \"n_estimators\", \"scale_pos_weight\" } are not used.\n",
      "\n",
      "  warnings.warn(smsg, UserWarning)\n"
     ]
    },
    {
     "name": "stdout",
     "output_type": "stream",
     "text": [
      "[0]\ttrain-mlogloss:1.09376\teval-mlogloss:1.09376\n",
      "[50]\ttrain-mlogloss:0.89049\teval-mlogloss:0.89044\n",
      "[100]\ttrain-mlogloss:0.74753\teval-mlogloss:0.74748\n",
      "[150]\ttrain-mlogloss:0.64189\teval-mlogloss:0.64182\n",
      "[200]\ttrain-mlogloss:0.56168\teval-mlogloss:0.56160\n",
      "[250]\ttrain-mlogloss:0.49759\teval-mlogloss:0.49753\n",
      "[300]\ttrain-mlogloss:0.44605\teval-mlogloss:0.44602\n",
      "[350]\ttrain-mlogloss:0.40519\teval-mlogloss:0.40519\n",
      "[400]\ttrain-mlogloss:0.37207\teval-mlogloss:0.37211\n",
      "[450]\ttrain-mlogloss:0.34459\teval-mlogloss:0.34467\n",
      "[499]\ttrain-mlogloss:0.32306\teval-mlogloss:0.32317\n",
      "XGBoost Classification Report:\n",
      "              precision    recall  f1-score   support\n",
      "\n",
      "     Class 0       0.84      0.98      0.91   1148340\n",
      "     Class 1       0.96      0.80      0.87    586464\n",
      "     Class 2       0.97      0.88      0.92    942038\n",
      "\n",
      "    accuracy                           0.90   2676842\n",
      "   macro avg       0.92      0.89      0.90   2676842\n",
      "weighted avg       0.91      0.90      0.90   2676842\n",
      "\n"
     ]
    }
   ],
   "source": [
    "import xgboost as xgb\n",
    "from sklearn.metrics import classification_report\n",
    "from sklearn.utils.class_weight import compute_class_weight\n",
    "import numpy as np\n",
    "\n",
    "# Convert data to DMatrix format\n",
    "dtrain = xgb.DMatrix(X_train, label=y_train)\n",
    "dval = xgb.DMatrix(X_val, label=y_val)\n",
    "\n",
    "# Calculate class weights\n",
    "class_weights = compute_class_weight('balanced', classes=np.unique(y_train), y=y_train)\n",
    "class_weight_dict = {i: class_weights[i] for i in range(len(class_weights))}\n",
    "\n",
    "# Set initial parameters for XGBoost with class weights\n",
    "params = {\n",
    "    'objective': 'multi:softmax',  # Multi-class classification\n",
    "    'num_class': len(set(y_train)),\n",
    "    'tree_method': 'hist',\n",
    "    'device': 'cuda',\n",
    "    'learning_rate': 0.005,  # Reduced learning rate for more gradual convergence\n",
    "    'max_depth': 13,  # Increased max_depth\n",
    "    'eval_metric': 'mlogloss',  # Log loss metric for multi-class classification\n",
    "    'scale_pos_weight': class_weight_dict,  # Adding class weights\n",
    "    'subsample': 0.85,  # Randomly sample 85% of data to train each tree\n",
    "    'colsample_bytree': 0.85,  # Randomly sample 85% of features for each tree\n",
    "    'n_estimators': 500  # Increased number of boosting rounds\n",
    "}\n",
    "\n",
    "# Train the model with early stopping and display loss every 50 rounds\n",
    "model = xgb.train(\n",
    "    params=params, \n",
    "    dtrain=dtrain, \n",
    "    num_boost_round=500,  # Increased rounds for better convergence\n",
    "    evals=[(dtrain, 'train'), (dval, 'eval')], \n",
    "    early_stopping_rounds=50, \n",
    "    verbose_eval=50  # Display loss every 50 rounds\n",
    ")\n",
    "\n",
    "# Convert X_val to DMatrix for prediction\n",
    "dval_pred = xgb.DMatrix(X_val)\n",
    "\n",
    "# Generate predictions\n",
    "y_pred = model.predict(dval_pred)\n",
    "\n",
    "# Generate the classification report\n",
    "print(\"XGBoost Classification Report:\")\n",
    "print(classification_report(y_val, y_pred, target_names=['Class 0', 'Class 1', 'Class 2']))\n"
   ]
  },
  {
   "cell_type": "markdown",
   "metadata": {},
   "source": [
    "**Taking Only 10% of the training data for computational efficeincy**"
   ]
  },
  {
   "cell_type": "code",
   "execution_count": 14,
   "metadata": {},
   "outputs": [],
   "source": [
    "# Sample 10% of the training data\n",
    "X_train_sample = X_train.sample(frac=0.1, random_state=42)\n",
    "y_train_sample = y_train.loc[X_train_sample.index]"
   ]
  },
  {
   "cell_type": "code",
   "execution_count": 15,
   "metadata": {},
   "outputs": [
    {
     "name": "stdout",
     "output_type": "stream",
     "text": [
      "Original Training Data Size: (6245963, 25)\n",
      "Sampled Training Data Size: (624596, 25)\n"
     ]
    }
   ],
   "source": [
    "# Check the sizes\n",
    "print(\"Original Training Data Size:\", X_train.shape)\n",
    "print(\"Sampled Training Data Size:\", X_train_sample.shape)"
   ]
  },
  {
   "cell_type": "markdown",
   "metadata": {},
   "source": [
    "**SMOTE**\n"
   ]
  },
  {
   "cell_type": "code",
   "execution_count": 16,
   "metadata": {},
   "outputs": [],
   "source": [
    "# Applying SMOTE to the training data\n",
    "smote = SMOTE(random_state=42)\n",
    "X_train_smote, y_train_smote = smote.fit_resample(X_train_sample, y_train_sample)"
   ]
  },
  {
   "cell_type": "code",
   "execution_count": 17,
   "metadata": {},
   "outputs": [
    {
     "name": "stdout",
     "output_type": "stream",
     "text": [
      "Original class distribution:\n",
      " IncidentGrade\n",
      "0    267143\n",
      "2    220149\n",
      "1    137304\n",
      "Name: count, dtype: int64\n",
      "After SMOTE class distribution:\n",
      " IncidentGrade\n",
      "2    267143\n",
      "0    267143\n",
      "1    267143\n",
      "Name: count, dtype: int64\n"
     ]
    }
   ],
   "source": [
    "# Checking the new class distribution\n",
    "print(\"Original class distribution:\\n\", y_train_sample.value_counts())\n",
    "print(\"After SMOTE class distribution:\\n\", y_train_smote.value_counts())"
   ]
  },
  {
   "cell_type": "markdown",
   "metadata": {},
   "source": [
    "Training XGB model on class balanced data\n"
   ]
  },
  {
   "cell_type": "code",
   "execution_count": 18,
   "metadata": {},
   "outputs": [
    {
     "name": "stderr",
     "output_type": "stream",
     "text": [
      "c:\\Users\\aashi\\AppData\\Local\\Programs\\Python\\Python312\\Lib\\site-packages\\xgboost\\core.py:158: UserWarning: [20:17:52] WARNING: C:\\buildkite-agent\\builds\\buildkite-windows-cpu-autoscaling-group-i-0c55ff5f71b100e98-1\\xgboost\\xgboost-ci-windows\\src\\context.cc:43: No visible GPU is found, setting device to CPU.\n",
      "  warnings.warn(smsg, UserWarning)\n",
      "c:\\Users\\aashi\\AppData\\Local\\Programs\\Python\\Python312\\Lib\\site-packages\\xgboost\\core.py:158: UserWarning: [20:17:52] WARNING: C:\\buildkite-agent\\builds\\buildkite-windows-cpu-autoscaling-group-i-0c55ff5f71b100e98-1\\xgboost\\xgboost-ci-windows\\src\\context.cc:196: XGBoost is not compiled with CUDA support.\n",
      "  warnings.warn(smsg, UserWarning)\n"
     ]
    },
    {
     "name": "stdout",
     "output_type": "stream",
     "text": [
      "Validation Set Classification Report (After SMOTE):\n",
      "              precision    recall  f1-score   support\n",
      "\n",
      "     Class 0       0.92      0.92      0.92   1148340\n",
      "     Class 1       0.84      0.90      0.87    586464\n",
      "     Class 2       0.95      0.90      0.93    942038\n",
      "\n",
      "    accuracy                           0.91   2676842\n",
      "   macro avg       0.90      0.91      0.91   2676842\n",
      "weighted avg       0.91      0.91      0.91   2676842\n",
      "\n"
     ]
    }
   ],
   "source": [
    "# Training the XGBoost model\n",
    "xgb = XGBClassifier(random_state=42,tree_method='hist',device='cuda')      \n",
    "xgb.fit(X_train_smote, y_train_smote)\n",
    "\n",
    "# Prediction on the validation set\n",
    "y_val_pred = xgb.predict(X_val)\n",
    "\n",
    "# Evaluate performance\n",
    "print(\"Validation Set Classification Report (After SMOTE):\")\n",
    "print(classification_report(y_val, y_val_pred, target_names=['Class 0', 'Class 1', 'Class 2']))"
   ]
  },
  {
   "cell_type": "markdown",
   "metadata": {},
   "source": [
    "SHAP Analysis for Feature Importance\n"
   ]
  },
  {
   "cell_type": "code",
   "execution_count": 19,
   "metadata": {},
   "outputs": [],
   "source": [
    "# Initialize the SHAP explainer\n",
    "explainer = shap.TreeExplainer(xgb)\n",
    "shap_values = explainer.shap_values(X_val)"
   ]
  },
  {
   "cell_type": "code",
   "execution_count": 20,
   "metadata": {},
   "outputs": [
    {
     "data": {
      "image/png": "[encoded data removed]",
      "text/plain": [
       "<Figure size 1200x800 with 1 Axes>"
      ]
     },
     "metadata": {},
     "output_type": "display_data"
    }
   ],
   "source": [
    "import numpy as np\n",
    "\n",
    "# If shap_values has a 3rd dimension for classes, we need to reduce it to a 2D array (samples x features)\n",
    "mean_shap_values = np.abs(shap_values).mean(axis=(0, 2))  # Mean across samples and classes\n",
    "\n",
    "# Create a DataFrame for sorting and visualization\n",
    "feature_importance_df = pd.DataFrame({\n",
    "    'Feature': X_val.columns,\n",
    "    'Importance': mean_shap_values\n",
    "}).sort_values(by='Importance', ascending=False)\n",
    "\n",
    "# Plot a bar chart for all features\n",
    "plt.figure(figsize=(12, 8))\n",
    "plt.barh(feature_importance_df['Feature'], feature_importance_df['Importance'], color='skyblue')\n",
    "plt.gca().invert_yaxis()  # Most important features at the top\n",
    "plt.title('Feature Importance (All Features)')\n",
    "plt.xlabel('Mean Absolute SHAP Value')\n",
    "plt.ylabel('Features')\n",
    "plt.tight_layout()\n",
    "plt.show()\n"
   ]
  },
  {
   "cell_type": "code",
   "execution_count": 21,
   "metadata": {},
   "outputs": [],
   "source": [
    "# Defining top 13 features based on SHAP\n",
    "top_13_features = ['OrgId', 'IncidentId', 'DetectorId', 'Category', 'AlertId','AlertTitle', \n",
    "                    'Day', 'EntityType', 'DeviceName', 'City', 'AccountName', 'IpAddress', 'Time']"
   ]
  },
  {
   "cell_type": "code",
   "execution_count": 22,
   "metadata": {},
   "outputs": [],
   "source": [
    "# Filter datasets for top 13 features\n",
    "X_train_top13 = X_train_smote[top_13_features]\n",
    "X_val_top13 = X_val[top_13_features]"
   ]
  },
  {
   "cell_type": "code",
   "execution_count": 23,
   "metadata": {},
   "outputs": [
    {
     "name": "stdout",
     "output_type": "stream",
     "text": [
      "Shape of training set with top features: (801429, 13)\n",
      "Shape of validation set with top features: (2676842, 13)\n"
     ]
    }
   ],
   "source": [
    "# Verify shapes\n",
    "print(\"Shape of training set with top features:\", X_train_top13.shape)\n",
    "print(\"Shape of validation set with top features:\", X_val_top13.shape)"
   ]
  },
  {
   "cell_type": "markdown",
   "metadata": {},
   "source": [
    "**Training XGB with only top 13 features**"
   ]
  },
  {
   "cell_type": "code",
   "execution_count": 24,
   "metadata": {},
   "outputs": [
    {
     "name": "stderr",
     "output_type": "stream",
     "text": [
      "c:\\Users\\aashi\\AppData\\Local\\Programs\\Python\\Python312\\Lib\\site-packages\\xgboost\\core.py:158: UserWarning: [20:34:12] WARNING: C:\\buildkite-agent\\builds\\buildkite-windows-cpu-autoscaling-group-i-0c55ff5f71b100e98-1\\xgboost\\xgboost-ci-windows\\src\\context.cc:43: No visible GPU is found, setting device to CPU.\n",
      "  warnings.warn(smsg, UserWarning)\n",
      "c:\\Users\\aashi\\AppData\\Local\\Programs\\Python\\Python312\\Lib\\site-packages\\xgboost\\core.py:158: UserWarning: [20:34:12] WARNING: C:\\buildkite-agent\\builds\\buildkite-windows-cpu-autoscaling-group-i-0c55ff5f71b100e98-1\\xgboost\\xgboost-ci-windows\\src\\context.cc:196: XGBoost is not compiled with CUDA support.\n",
      "  warnings.warn(smsg, UserWarning)\n"
     ]
    },
    {
     "name": "stdout",
     "output_type": "stream",
     "text": [
      "Validation Set Classification Report (Top 13 Features):\n",
      "              precision    recall  f1-score   support\n",
      "\n",
      "     Class 0       0.92      0.92      0.92   1148340\n",
      "     Class 1       0.84      0.91      0.87    586464\n",
      "     Class 2       0.95      0.91      0.93    942038\n",
      "\n",
      "    accuracy                           0.91   2676842\n",
      "   macro avg       0.91      0.91      0.91   2676842\n",
      "weighted avg       0.92      0.91      0.91   2676842\n",
      "\n"
     ]
    }
   ],
   "source": [
    "# Train the XGBoost model with top features\n",
    "xgb_top13 = XGBClassifier(random_state=42,tree_method='hist',device='cuda')\n",
    "xgb_top13.fit(X_train_top13, y_train_smote)\n",
    "\n",
    "# Predict on the validation set\n",
    "y_val_pred_top13 = xgb_top13.predict(X_val_top13)\n",
    "\n",
    "# Evaluate performance\n",
    "\n",
    "print(\"Validation Set Classification Report (Top 13 Features):\")\n",
    "print(classification_report(y_val, y_val_pred_top13, target_names=['Class 0', 'Class 1', 'Class 2']))"
   ]
  },
  {
   "cell_type": "markdown",
   "metadata": {},
   "source": [
    "**Hyperparameter Tuning**"
   ]
  },
  {
   "cell_type": "code",
   "execution_count": 25,
   "metadata": {},
   "outputs": [
    {
     "name": "stdout",
     "output_type": "stream",
     "text": [
      "Fitting 3 folds for each of 20 candidates, totalling 60 fits\n"
     ]
    },
    {
     "name": "stderr",
     "output_type": "stream",
     "text": [
      "c:\\Users\\aashi\\AppData\\Local\\Programs\\Python\\Python312\\Lib\\site-packages\\xgboost\\core.py:158: UserWarning: [20:40:53] WARNING: C:\\buildkite-agent\\builds\\buildkite-windows-cpu-autoscaling-group-i-0c55ff5f71b100e98-1\\xgboost\\xgboost-ci-windows\\src\\context.cc:43: No visible GPU is found, setting device to CPU.\n",
      "  warnings.warn(smsg, UserWarning)\n",
      "c:\\Users\\aashi\\AppData\\Local\\Programs\\Python\\Python312\\Lib\\site-packages\\xgboost\\core.py:158: UserWarning: [20:40:53] WARNING: C:\\buildkite-agent\\builds\\buildkite-windows-cpu-autoscaling-group-i-0c55ff5f71b100e98-1\\xgboost\\xgboost-ci-windows\\src\\context.cc:196: XGBoost is not compiled with CUDA support.\n",
      "  warnings.warn(smsg, UserWarning)\n",
      "c:\\Users\\aashi\\AppData\\Local\\Programs\\Python\\Python312\\Lib\\site-packages\\xgboost\\core.py:158: UserWarning: [20:40:53] WARNING: C:\\buildkite-agent\\builds\\buildkite-windows-cpu-autoscaling-group-i-0c55ff5f71b100e98-1\\xgboost\\xgboost-ci-windows\\src\\learner.cc:740: \n",
      "Parameters: { \"scale_pos_weight\" } are not used.\n",
      "\n",
      "  warnings.warn(smsg, UserWarning)\n"
     ]
    },
    {
     "name": "stdout",
     "output_type": "stream",
     "text": [
      "Best Parameters: {'subsample': 0.8, 'scale_pos_weight': 3, 'n_estimators': 100, 'max_depth': 7, 'learning_rate': 0.2, 'colsample_bytree': 1.0}\n",
      "Validation Set Classification Report (Tuned Top 13 Features):\n",
      "              precision    recall  f1-score   support\n",
      "\n",
      "     Class 0       0.92      0.92      0.92   1148340\n",
      "     Class 1       0.84      0.91      0.87    586464\n",
      "     Class 2       0.96      0.91      0.93    942038\n",
      "\n",
      "    accuracy                           0.91   2676842\n",
      "   macro avg       0.91      0.91      0.91   2676842\n",
      "weighted avg       0.92      0.91      0.92   2676842\n",
      "\n"
     ]
    }
   ],
   "source": [
    "# Define hyperparameter grid\n",
    "param_distributions = {\n",
    "    'max_depth': [3, 5, 7],\n",
    "    'n_estimators': [100, 200],\n",
    "    'learning_rate': [0.01, 0.1, 0.2],\n",
    "    'subsample': [0.8, 1.0],\n",
    "    'colsample_bytree': [0.8, 1.0],\n",
    "    'scale_pos_weight': [1, 2, 3]  # To address class imbalance further\n",
    "}\n",
    "\n",
    "# Randomized search with GPU support\n",
    "random_search_top13 = RandomizedSearchCV(\n",
    "    estimator=XGBClassifier(\n",
    "        random_state=42,\n",
    "        tree_method='hist',  # Enable GPU support\n",
    "        device='cuda'  # Use GPU for predictions\n",
    "    ),\n",
    "    param_distributions=param_distributions,\n",
    "    scoring='f1_macro',  # Scoring metric\n",
    "    cv=3,\n",
    "    n_iter=20,  # Number of random combinations\n",
    "    verbose=1,\n",
    "    n_jobs=-1  # Parallel processing\n",
    ")\n",
    "\n",
    "# Perform hyperparameter tuning\n",
    "random_search_top13.fit(X_train_top13, y_train_smote)\n",
    "\n",
    "# Get the best model\n",
    "best_xgb_top13 = random_search_top13.best_estimator_\n",
    "print(\"Best Parameters:\", random_search_top13.best_params_)\n",
    "\n",
    "# Evaluate on validation set\n",
    "y_val_pred_best_top13 = best_xgb_top13.predict(X_val_top13)\n",
    "print(\"Validation Set Classification Report (Tuned Top 13 Features):\")\n",
    "print(classification_report(y_val, y_val_pred_best_top13, target_names=['Class 0', 'Class 1', 'Class 2']))"
   ]
  },
  {
   "cell_type": "markdown",
   "metadata": {},
   "source": [
    "The hyperparameter tuned model gives best scores. Saving the model.\n"
   ]
  },
  {
   "cell_type": "code",
   "execution_count": 26,
   "metadata": {},
   "outputs": [
    {
     "name": "stdout",
     "output_type": "stream",
     "text": [
      "Model saved as best_xgboost_Classification_model_SMOTE.pkl\n"
     ]
    }
   ],
   "source": [
    "import joblib\n",
    "\n",
    "# Save the model\n",
    "joblib.dump(best_xgb_top13, 'best_xgboost_Classification_model_SMOTE.pkl')\n",
    "print(\"Model saved as best_xgboost_Classification_model_SMOTE.pkl\")"
   ]
  },
  {
   "cell_type": "markdown",
   "metadata": {},
   "source": [
    "**EVALUATION ON TEST SET**"
   ]
  },
  {
   "cell_type": "code",
   "execution_count": 27,
   "metadata": {},
   "outputs": [
    {
     "data": {
      "text/html": [
       "<div>\n",
       "<style scoped>\n",
       "    .dataframe tbody tr th:only-of-type {\n",
       "        vertical-align: middle;\n",
       "    }\n",
       "\n",
       "    .dataframe tbody tr th {\n",
       "        vertical-align: top;\n",
       "    }\n",
       "\n",
       "    .dataframe thead th {\n",
       "        text-align: right;\n",
       "    }\n",
       "</style>\n",
       "<table border=\"1\" class=\"dataframe\">\n",
       "  <thead>\n",
       "    <tr style=\"text-align: right;\">\n",
       "      <th></th>\n",
       "      <th>Id</th>\n",
       "      <th>OrgId</th>\n",
       "      <th>IncidentId</th>\n",
       "      <th>AlertId</th>\n",
       "      <th>DetectorId</th>\n",
       "      <th>AlertTitle</th>\n",
       "      <th>Category</th>\n",
       "      <th>IncidentGrade</th>\n",
       "      <th>EntityType</th>\n",
       "      <th>EvidenceRole</th>\n",
       "      <th>IpAddress</th>\n",
       "      <th>Url</th>\n",
       "      <th>AccountName</th>\n",
       "      <th>DeviceName</th>\n",
       "      <th>NetworkMessageId</th>\n",
       "      <th>RegistryKey</th>\n",
       "      <th>RegistryValueData</th>\n",
       "      <th>ApplicationName</th>\n",
       "      <th>OAuthApplicationId</th>\n",
       "      <th>FileName</th>\n",
       "      <th>ResourceIdName</th>\n",
       "      <th>OSVersion</th>\n",
       "      <th>City</th>\n",
       "      <th>Day</th>\n",
       "      <th>Year</th>\n",
       "      <th>Hour</th>\n",
       "      <th>Time</th>\n",
       "    </tr>\n",
       "  </thead>\n",
       "  <tbody>\n",
       "    <tr>\n",
       "      <th>0</th>\n",
       "      <td>1245540519230</td>\n",
       "      <td>657</td>\n",
       "      <td>11767</td>\n",
       "      <td>87199</td>\n",
       "      <td>524</td>\n",
       "      <td>563</td>\n",
       "      <td>11</td>\n",
       "      <td>0</td>\n",
       "      <td>28</td>\n",
       "      <td>0</td>\n",
       "      <td>360606</td>\n",
       "      <td>160396</td>\n",
       "      <td>863</td>\n",
       "      <td>153085</td>\n",
       "      <td>529644</td>\n",
       "      <td>1631</td>\n",
       "      <td>860</td>\n",
       "      <td>3421</td>\n",
       "      <td>881</td>\n",
       "      <td>289573</td>\n",
       "      <td>3586</td>\n",
       "      <td>66</td>\n",
       "      <td>10630</td>\n",
       "      <td>4</td>\n",
       "      <td>2024</td>\n",
       "      <td>22</td>\n",
       "      <td>82520</td>\n",
       "    </tr>\n",
       "    <tr>\n",
       "      <th>1</th>\n",
       "      <td>1400159342154</td>\n",
       "      <td>3</td>\n",
       "      <td>91158</td>\n",
       "      <td>632273</td>\n",
       "      <td>2</td>\n",
       "      <td>2</td>\n",
       "      <td>1</td>\n",
       "      <td>0</td>\n",
       "      <td>15</td>\n",
       "      <td>0</td>\n",
       "      <td>360606</td>\n",
       "      <td>160396</td>\n",
       "      <td>453297</td>\n",
       "      <td>2833</td>\n",
       "      <td>529644</td>\n",
       "      <td>1631</td>\n",
       "      <td>860</td>\n",
       "      <td>3421</td>\n",
       "      <td>881</td>\n",
       "      <td>289573</td>\n",
       "      <td>3586</td>\n",
       "      <td>0</td>\n",
       "      <td>10630</td>\n",
       "      <td>3</td>\n",
       "      <td>2024</td>\n",
       "      <td>12</td>\n",
       "      <td>46649</td>\n",
       "    </tr>\n",
       "    <tr>\n",
       "      <th>2</th>\n",
       "      <td>1279900255923</td>\n",
       "      <td>145</td>\n",
       "      <td>32247</td>\n",
       "      <td>131719</td>\n",
       "      <td>2932</td>\n",
       "      <td>10807</td>\n",
       "      <td>11</td>\n",
       "      <td>0</td>\n",
       "      <td>23</td>\n",
       "      <td>1</td>\n",
       "      <td>360606</td>\n",
       "      <td>160396</td>\n",
       "      <td>453297</td>\n",
       "      <td>153085</td>\n",
       "      <td>529644</td>\n",
       "      <td>1631</td>\n",
       "      <td>860</td>\n",
       "      <td>3421</td>\n",
       "      <td>881</td>\n",
       "      <td>14</td>\n",
       "      <td>3586</td>\n",
       "      <td>66</td>\n",
       "      <td>10630</td>\n",
       "      <td>8</td>\n",
       "      <td>2024</td>\n",
       "      <td>3</td>\n",
       "      <td>12037</td>\n",
       "    </tr>\n",
       "    <tr>\n",
       "      <th>3</th>\n",
       "      <td>60129547292</td>\n",
       "      <td>222</td>\n",
       "      <td>15294</td>\n",
       "      <td>917686</td>\n",
       "      <td>0</td>\n",
       "      <td>0</td>\n",
       "      <td>10</td>\n",
       "      <td>1</td>\n",
       "      <td>7</td>\n",
       "      <td>1</td>\n",
       "      <td>360606</td>\n",
       "      <td>160396</td>\n",
       "      <td>453297</td>\n",
       "      <td>153085</td>\n",
       "      <td>529644</td>\n",
       "      <td>1631</td>\n",
       "      <td>860</td>\n",
       "      <td>3421</td>\n",
       "      <td>881</td>\n",
       "      <td>289573</td>\n",
       "      <td>3586</td>\n",
       "      <td>66</td>\n",
       "      <td>10630</td>\n",
       "      <td>12</td>\n",
       "      <td>2024</td>\n",
       "      <td>12</td>\n",
       "      <td>43594</td>\n",
       "    </tr>\n",
       "    <tr>\n",
       "      <th>4</th>\n",
       "      <td>515396080539</td>\n",
       "      <td>363</td>\n",
       "      <td>7615</td>\n",
       "      <td>5944</td>\n",
       "      <td>27</td>\n",
       "      <td>18</td>\n",
       "      <td>5</td>\n",
       "      <td>0</td>\n",
       "      <td>28</td>\n",
       "      <td>0</td>\n",
       "      <td>360606</td>\n",
       "      <td>160396</td>\n",
       "      <td>136104</td>\n",
       "      <td>153085</td>\n",
       "      <td>529644</td>\n",
       "      <td>1631</td>\n",
       "      <td>860</td>\n",
       "      <td>3421</td>\n",
       "      <td>881</td>\n",
       "      <td>289573</td>\n",
       "      <td>3586</td>\n",
       "      <td>66</td>\n",
       "      <td>10630</td>\n",
       "      <td>6</td>\n",
       "      <td>2024</td>\n",
       "      <td>17</td>\n",
       "      <td>63665</td>\n",
       "    </tr>\n",
       "  </tbody>\n",
       "</table>\n",
       "</div>"
      ],
      "text/plain": [
       "              Id  OrgId  IncidentId  AlertId  DetectorId  AlertTitle  \\\n",
       "0  1245540519230    657       11767    87199         524         563   \n",
       "1  1400159342154      3       91158   632273           2           2   \n",
       "2  1279900255923    145       32247   131719        2932       10807   \n",
       "3    60129547292    222       15294   917686           0           0   \n",
       "4   515396080539    363        7615     5944          27          18   \n",
       "\n",
       "   Category  IncidentGrade  EntityType  EvidenceRole  IpAddress     Url  \\\n",
       "0        11              0          28             0     360606  160396   \n",
       "1         1              0          15             0     360606  160396   \n",
       "2        11              0          23             1     360606  160396   \n",
       "3        10              1           7             1     360606  160396   \n",
       "4         5              0          28             0     360606  160396   \n",
       "\n",
       "   AccountName  DeviceName  NetworkMessageId  RegistryKey  RegistryValueData  \\\n",
       "0          863      153085            529644         1631                860   \n",
       "1       453297        2833            529644         1631                860   \n",
       "2       453297      153085            529644         1631                860   \n",
       "3       453297      153085            529644         1631                860   \n",
       "4       136104      153085            529644         1631                860   \n",
       "\n",
       "   ApplicationName  OAuthApplicationId  FileName  ResourceIdName  OSVersion  \\\n",
       "0             3421                 881    289573            3586         66   \n",
       "1             3421                 881    289573            3586          0   \n",
       "2             3421                 881        14            3586         66   \n",
       "3             3421                 881    289573            3586         66   \n",
       "4             3421                 881    289573            3586         66   \n",
       "\n",
       "    City  Day  Year  Hour   Time  \n",
       "0  10630    4  2024    22  82520  \n",
       "1  10630    3  2024    12  46649  \n",
       "2  10630    8  2024     3  12037  \n",
       "3  10630   12  2024    12  43594  \n",
       "4  10630    6  2024    17  63665  "
      ]
     },
     "execution_count": 27,
     "metadata": {},
     "output_type": "execute_result"
    }
   ],
   "source": [
    "# Loading test data\n",
    "test_data = pd.read_csv('testdata_processed.csv')\n",
    "test_data.head()"
   ]
  },
  {
   "cell_type": "code",
   "execution_count": 28,
   "metadata": {},
   "outputs": [],
   "source": [
    "# Selecting only top 13 features and setting features and target\n",
    "X_test_top13 = test_data[top_13_features] \n",
    "y_test = test_data['IncidentGrade']"
   ]
  },
  {
   "cell_type": "code",
   "execution_count": 29,
   "metadata": {},
   "outputs": [
    {
     "name": "stdout",
     "output_type": "stream",
     "text": [
      "Test Set Classification Report (Top 13 Features):\n",
      "              precision    recall  f1-score   support\n",
      "\n",
      "     Class 0       0.92      0.81      0.86   1752895\n",
      "     Class 1       0.69      0.91      0.78    902664\n",
      "     Class 2       0.94      0.88      0.91   1492329\n",
      "\n",
      "    accuracy                           0.86   4147888\n",
      "   macro avg       0.85      0.87      0.85   4147888\n",
      "weighted avg       0.88      0.86      0.86   4147888\n",
      "\n"
     ]
    }
   ],
   "source": [
    "# Predicting on the test set using the best model\n",
    "y_test_pred_top13 = best_xgb_top13.predict(X_test_top13)\n",
    "\n",
    "# Evaluate performance on test data\n",
    "print(\"Test Set Classification Report (Top 13 Features):\")\n",
    "print(classification_report(y_test, y_test_pred_top13, target_names=['Class 0', 'Class 1', 'Class 2']))"
   ]
  },
  {
   "cell_type": "markdown",
   "metadata": {},
   "source": [
    "**Without Using Smote**"
   ]
  },
  {
   "cell_type": "code",
   "execution_count": 30,
   "metadata": {},
   "outputs": [
    {
     "name": "stderr",
     "output_type": "stream",
     "text": [
      "c:\\Users\\aashi\\AppData\\Local\\Programs\\Python\\Python312\\Lib\\site-packages\\xgboost\\core.py:158: UserWarning: [20:41:35] WARNING: C:\\buildkite-agent\\builds\\buildkite-windows-cpu-autoscaling-group-i-0c55ff5f71b100e98-1\\xgboost\\xgboost-ci-windows\\src\\context.cc:43: No visible GPU is found, setting device to CPU.\n",
      "  warnings.warn(smsg, UserWarning)\n",
      "c:\\Users\\aashi\\AppData\\Local\\Programs\\Python\\Python312\\Lib\\site-packages\\xgboost\\core.py:158: UserWarning: [20:41:35] WARNING: C:\\buildkite-agent\\builds\\buildkite-windows-cpu-autoscaling-group-i-0c55ff5f71b100e98-1\\xgboost\\xgboost-ci-windows\\src\\context.cc:196: XGBoost is not compiled with CUDA support.\n",
      "  warnings.warn(smsg, UserWarning)\n"
     ]
    },
    {
     "name": "stdout",
     "output_type": "stream",
     "text": [
      "Validation Set Classification Report without smote:\n",
      "              precision    recall  f1-score   support\n",
      "\n",
      "     Class 0       0.89      0.96      0.93   1148340\n",
      "     Class 1       0.93      0.85      0.89    586464\n",
      "     Class 2       0.95      0.91      0.93    942038\n",
      "\n",
      "    accuracy                           0.92   2676842\n",
      "   macro avg       0.93      0.91      0.92   2676842\n",
      "weighted avg       0.92      0.92      0.92   2676842\n",
      "\n"
     ]
    }
   ],
   "source": [
    "# Train the XGBoost model\n",
    "xgb = XGBClassifier(random_state=42,tree_method='hist',device='cuda')\n",
    "xgb.fit(X_train_sample, y_train_sample)\n",
    "\n",
    "# Predict on the validation set\n",
    "y_val_pred = xgb.predict(X_val)\n",
    "\n",
    "# Evaluate performance\n",
    "print(\"Validation Set Classification Report without smote:\")\n",
    "print(classification_report(y_val, y_val_pred, target_names=['Class 0', 'Class 1', 'Class 2']))"
   ]
  },
  {
   "cell_type": "code",
   "execution_count": 31,
   "metadata": {},
   "outputs": [
    {
     "name": "stdout",
     "output_type": "stream",
     "text": [
      "Shape of training set with top features: (624596, 13)\n",
      "Shape of validation set with top features: (2676842, 13)\n"
     ]
    }
   ],
   "source": [
    "# Define top 13 features based on SHAP\n",
    "top_13_features = ['OrgId', 'IncidentId', 'DetectorId', 'Category', 'AlertId','AlertTitle', \n",
    "                    'Day', 'EntityType', 'DeviceName', 'City', 'AccountName', 'IpAddress', 'Time']\n",
    "# Filter datasets for top 13 features\n",
    "X_train_sample_top13 = X_train_sample[top_13_features]\n",
    "X_val_top13 = X_val[top_13_features]\n",
    "\n",
    "# Verify shapes\n",
    "print(\"Shape of training set with top features:\", X_train_sample_top13.shape)\n",
    "print(\"Shape of validation set with top features:\", X_val_top13.shape)"
   ]
  },
  {
   "cell_type": "markdown",
   "metadata": {},
   "source": [
    "**Training XGB with only top 13 features on original dataset**"
   ]
  },
  {
   "cell_type": "code",
   "execution_count": 32,
   "metadata": {},
   "outputs": [
    {
     "name": "stderr",
     "output_type": "stream",
     "text": [
      "c:\\Users\\aashi\\AppData\\Local\\Programs\\Python\\Python312\\Lib\\site-packages\\xgboost\\core.py:158: UserWarning: [20:41:49] WARNING: C:\\buildkite-agent\\builds\\buildkite-windows-cpu-autoscaling-group-i-0c55ff5f71b100e98-1\\xgboost\\xgboost-ci-windows\\src\\context.cc:43: No visible GPU is found, setting device to CPU.\n",
      "  warnings.warn(smsg, UserWarning)\n",
      "c:\\Users\\aashi\\AppData\\Local\\Programs\\Python\\Python312\\Lib\\site-packages\\xgboost\\core.py:158: UserWarning: [20:41:49] WARNING: C:\\buildkite-agent\\builds\\buildkite-windows-cpu-autoscaling-group-i-0c55ff5f71b100e98-1\\xgboost\\xgboost-ci-windows\\src\\context.cc:196: XGBoost is not compiled with CUDA support.\n",
      "  warnings.warn(smsg, UserWarning)\n"
     ]
    },
    {
     "name": "stdout",
     "output_type": "stream",
     "text": [
      "Validation Set Classification Report (Top 13 Features):\n",
      "              precision    recall  f1-score   support\n",
      "\n",
      "     Class 0       0.90      0.96      0.93   1148340\n",
      "     Class 1       0.93      0.86      0.89    586464\n",
      "     Class 2       0.95      0.92      0.93    942038\n",
      "\n",
      "    accuracy                           0.92   2676842\n",
      "   macro avg       0.93      0.91      0.92   2676842\n",
      "weighted avg       0.92      0.92      0.92   2676842\n",
      "\n"
     ]
    }
   ],
   "source": [
    "# Train the XGBoost model with top features\n",
    "xgb_top13 = XGBClassifier(random_state=42,tree_method='hist',device='cuda')\n",
    "xgb_top13.fit(X_train_sample_top13, y_train_sample)\n",
    "\n",
    "# Predict on the validation set\n",
    "y_val_pred_top13 = xgb_top13.predict(X_val_top13)\n",
    "\n",
    "# Evaluate performance\n",
    "\n",
    "print(\"Validation Set Classification Report (Top 13 Features):\")\n",
    "print(classification_report(y_val, y_val_pred_top13, target_names=['Class 0', 'Class 1', 'Class 2']))"
   ]
  },
  {
   "cell_type": "markdown",
   "metadata": {},
   "source": [
    "Hyperparameter Tuning"
   ]
  },
  {
   "cell_type": "code",
   "execution_count": 33,
   "metadata": {},
   "outputs": [
    {
     "name": "stdout",
     "output_type": "stream",
     "text": [
      "Fitting 3 folds for each of 50 candidates, totalling 150 fits\n"
     ]
    },
    {
     "name": "stderr",
     "output_type": "stream",
     "text": [
      "c:\\Users\\aashi\\AppData\\Local\\Programs\\Python\\Python312\\Lib\\site-packages\\xgboost\\core.py:158: UserWarning: [21:03:02] WARNING: C:\\buildkite-agent\\builds\\buildkite-windows-cpu-autoscaling-group-i-0c55ff5f71b100e98-1\\xgboost\\xgboost-ci-windows\\src\\context.cc:43: No visible GPU is found, setting device to CPU.\n",
      "  warnings.warn(smsg, UserWarning)\n",
      "c:\\Users\\aashi\\AppData\\Local\\Programs\\Python\\Python312\\Lib\\site-packages\\xgboost\\core.py:158: UserWarning: [21:03:02] WARNING: C:\\buildkite-agent\\builds\\buildkite-windows-cpu-autoscaling-group-i-0c55ff5f71b100e98-1\\xgboost\\xgboost-ci-windows\\src\\context.cc:196: XGBoost is not compiled with CUDA support.\n",
      "  warnings.warn(smsg, UserWarning)\n",
      "c:\\Users\\aashi\\AppData\\Local\\Programs\\Python\\Python312\\Lib\\site-packages\\xgboost\\core.py:158: UserWarning: [21:03:02] WARNING: C:\\buildkite-agent\\builds\\buildkite-windows-cpu-autoscaling-group-i-0c55ff5f71b100e98-1\\xgboost\\xgboost-ci-windows\\src\\learner.cc:740: \n",
      "Parameters: { \"scale_pos_weight\" } are not used.\n",
      "\n",
      "  warnings.warn(smsg, UserWarning)\n"
     ]
    },
    {
     "name": "stdout",
     "output_type": "stream",
     "text": [
      "Best Parameters: {'subsample': 0.8, 'scale_pos_weight': 3, 'n_estimators': 300, 'max_depth': 7, 'learning_rate': 0.2, 'colsample_bytree': 1.0}\n",
      "Validation Set Classification Report (Tuned Top 13 Features):\n",
      "              precision    recall  f1-score   support\n",
      "\n",
      "     Class 0       0.95      0.97      0.96   1148340\n",
      "     Class 1       0.95      0.92      0.93    586464\n",
      "     Class 2       0.97      0.95      0.96    942038\n",
      "\n",
      "    accuracy                           0.95   2676842\n",
      "   macro avg       0.95      0.95      0.95   2676842\n",
      "weighted avg       0.95      0.95      0.95   2676842\n",
      "\n"
     ]
    }
   ],
   "source": [
    "# Define hyperparameter grid\n",
    "param_distributions = {\n",
    "    'max_depth': [3, 5, 7],\n",
    "    'n_estimators': [100, 200, 300],\n",
    "    'learning_rate': [0.01, 0.001, 0.2],\n",
    "    'subsample': [0.8, 1.0],\n",
    "    'colsample_bytree': [0.8, 1.0],\n",
    "    'scale_pos_weight': [1, 2, 3]  # To address class imbalance further\n",
    "}\n",
    "\n",
    "# Randomized search\n",
    "random_search_top13 = RandomizedSearchCV(\n",
    "    estimator=XGBClassifier(random_state=42,\n",
    "                            tree_method='hist',  # Enable GPU support\n",
    "                            device='cuda'  # Use GPU for predictions\n",
    "                           ),\n",
    "    param_distributions=param_distributions,\n",
    "    scoring='f1_macro',\n",
    "    cv=3,\n",
    "    n_iter=50,  # Number of random combinations\n",
    "    verbose=1,\n",
    "    n_jobs=-1\n",
    ")\n",
    "\n",
    "# Perform hyperparameter tuning\n",
    "random_search_top13.fit(X_train_sample_top13, y_train_sample)\n",
    "# Get the best model\n",
    "best_xgb_top13 = random_search_top13.best_estimator_\n",
    "print(\"Best Parameters:\", random_search_top13.best_params_)\n",
    "\n",
    "# Evaluate on validation set\n",
    "y_val_pred_best_top13 = best_xgb_top13.predict(X_val_top13)\n",
    "print(\"Validation Set Classification Report (Tuned Top 13 Features):\")\n",
    "print(classification_report(y_val, y_val_pred_best_top13, target_names=['Class 0', 'Class 1', 'Class 2']))"
   ]
  },
  {
   "cell_type": "code",
   "execution_count": 34,
   "metadata": {},
   "outputs": [
    {
     "name": "stdout",
     "output_type": "stream",
     "text": [
      "Model saved as best_XGB_Classification_model_without_SMOTE.pkl\n"
     ]
    }
   ],
   "source": [
    "import joblib\n",
    "\n",
    "# Save the model\n",
    "joblib.dump(best_xgb_top13, 'best_XGB_Classification_model_without_SMOTE.pkl')\n",
    "print(\"Model saved as best_XGB_Classification_model_without_SMOTE.pkl\")"
   ]
  },
  {
   "cell_type": "markdown",
   "metadata": {},
   "source": [
    "**Final Evaluation on Test Set**"
   ]
  },
  {
   "cell_type": "code",
   "execution_count": 35,
   "metadata": {},
   "outputs": [
    {
     "name": "stdout",
     "output_type": "stream",
     "text": [
      "Test Set Classification Report (Top 13 Features):\n",
      "              precision    recall  f1-score   support\n",
      "\n",
      "     Class 0       0.91      0.93      0.92   1752895\n",
      "     Class 1       0.89      0.86      0.87    902664\n",
      "     Class 2       0.93      0.93      0.93   1492329\n",
      "\n",
      "    accuracy                           0.91   4147888\n",
      "   macro avg       0.91      0.90      0.91   4147888\n",
      "weighted avg       0.91      0.91      0.91   4147888\n",
      "\n"
     ]
    }
   ],
   "source": [
    "# Predict on the test set\n",
    "y_test_pred_top13 = best_xgb_top13.predict(X_test_top13)\n",
    "\n",
    "# Evaluate performance on test data\n",
    "print(\"Test Set Classification Report (Top 13 Features):\")\n",
    "print(classification_report(y_test, y_test_pred_top13, target_names=['Class 0', 'Class 1', 'Class 2']))"
   ]
  }
 ],
 "metadata": {
  "kernelspec": {
   "display_name": "Python 3",
   "language": "python",
   "name": "python3"
  },
  "language_info": {
   "codemirror_mode": {
    "name": "ipython",
    "version": 3
   },
   "file_extension": ".py",
   "mimetype": "text/x-python",
   "name": "python",
   "nbconvert_exporter": "python",
   "pygments_lexer": "ipython3",
   "version": "3.12.6"
  }
 },
 "nbformat": 4,
 "nbformat_minor": 2
}
